{
 "cells": [
  {
   "cell_type": "markdown",
   "metadata": {},
   "source": [
    "# Preprocessing for CCL (Connected Component Labeling)"
   ]
  },
  {
   "cell_type": "code",
   "execution_count": 1,
   "metadata": {},
   "outputs": [],
   "source": [
    "from PIL import Image\n",
    "import numpy as np"
   ]
  },
  {
   "cell_type": "code",
   "execution_count": 2,
   "metadata": {},
   "outputs": [],
   "source": [
    "# Convert image to binary image, prereq for Connected Component Labeling\n",
    "img = Image.open('img.png').convert(\"1\", dither=Image.NONE)"
   ]
  },
  {
   "cell_type": "code",
   "execution_count": 3,
   "metadata": {},
   "outputs": [],
   "source": [
    "img_arr = np.asarray(img)"
   ]
  },
  {
   "cell_type": "markdown",
   "metadata": {},
   "source": [
    "# CCL Function, takes an image, returns, a new array with labels"
   ]
  },
  {
   "cell_type": "code",
   "execution_count": 4,
   "metadata": {},
   "outputs": [],
   "source": [
    "def ccl(image):\n",
    "    # Convert image to numpy array\n",
    "    d = np.array(image)\n",
    "    # Create a blank image array\n",
    "    d_f = np.zeros(d.shape)\n",
    "    # Initialize a label value variable\n",
    "    l_v = 0\n",
    "    # A dictionary to keep track of parents of a label \n",
    "    p = {}\n",
    "    # Loop through each pixel of the given image.\n",
    "    for i in range(d.shape[0]):\n",
    "        for j in range(d.shape[1]):\n",
    "            # If the current pixel is not background.\n",
    "            if d[i][j] != 0:\n",
    "                # For the very first pixel initialize the pixel with label\n",
    "                if i == 0 and j == 0:\n",
    "                    l_v += 1\n",
    "                    d_f[i][j] = l_v\n",
    "                # For the first row\n",
    "                elif i == 0:\n",
    "                    # Assign the value to the left.\n",
    "                    if d_f[i][j-1] != 0:\n",
    "                        d_f[i][j] = d_f[i][j-1]\n",
    "                    # Assign a new label if the pixel to the left is background.\n",
    "                    else:\n",
    "                        l_v += 1\n",
    "                        d_f[i][j] = l_v\n",
    "                # For the first column\n",
    "                elif j == 0:\n",
    "                    # Assign the value of the above pixel\n",
    "                    if d_f[i-1][j] != 0:\n",
    "                        d_f[i][j] = d_f[i-1][j]\n",
    "                    # Assign a new label if the pixel above is background\n",
    "                    else:\n",
    "                        l_v += 1\n",
    "                        d_f[i][j] = l_v\n",
    "                # If the current pixel is surrounded by backgrounds,\n",
    "                # assign new label value.\n",
    "                elif d_f[i-1][j] == 0 and d_f[i][j-1] == 0:\n",
    "                    l_v += 1\n",
    "                    d_f[i][j] = l_v\n",
    "                # Else assign an existing label to the current pixel\n",
    "                else:\n",
    "                    # If the pixel above has smaller label,\n",
    "                    # assign it to the current label and\n",
    "                    # and record that the label to the left \n",
    "                    # has the label above as parent. Also make\n",
    "                    # sure that the label above is not background\n",
    "                    if d_f[i-1][j] < d_f[i][j-1] and d_f[i-1][j] != 0:\n",
    "                        d_f[i][j] = d_f[i-1][j]\n",
    "                        if d_f[i][j-1] != 0:\n",
    "                            if d_f[i][j-1] not in p:\n",
    "                                p[d_f[i][j-1]] = {d_f[i-1][j]}\n",
    "                            else:\n",
    "                                p[d_f[i][j-1]].add(d_f[i-1][j])\n",
    "                    # Else if the pixel to the left has smaller label,\n",
    "                    # assign it to the current label and\n",
    "                    # and record that the label above \n",
    "                    # has the label to the left as parent. Also make\n",
    "                    # sure that the label to the left is not background\n",
    "                    elif d_f[i][j-1] < d_f[i-1][j] and d_f[i][j-1] != 0:\n",
    "                        d_f[i][j] = d_f[i][j-1]\n",
    "                        if d_f[i-1][j] != 0:\n",
    "                            if d_f[i-1][j] not in p:\n",
    "                                p[d_f[i-1][j]] = {d_f[i][j-1]}\n",
    "                            else:\n",
    "                                p[d_f[i-1][j]].add(d_f[i][j-1])\n",
    "                    # In case one of the pixels is background and \n",
    "                    # above conditions were not satisfied.\n",
    "                    else:\n",
    "                        d_f[i][j] = d_f[i][j-1] if d_f[i][j-1] != 0 else d_f[i-1][j]\n",
    "\n",
    "    # Important for second pass, the parent for the given label\n",
    "    # If the label is not entered in the dictionary, then it is a label itself.\n",
    "    def findParent(parents, p):\n",
    "        # Check for all the parents.\n",
    "        for parent in parents:\n",
    "            if parent not in p:\n",
    "                return parent\n",
    "        # The parent with the minimum label value is more likely closer to root.\n",
    "        return findParent(list(p[min(parents)]), p)\n",
    "\n",
    "    # Second pass, replace the labels with their parents.\n",
    "    for i in range(d.shape[0]):\n",
    "        for j in range(d.shape[1]):\n",
    "            d_f[i][j] = findParent(list(p[d_f[i][j]]), p) if d_f[i][j] in p else d_f[i][j]\n",
    "    return d_f               \n",
    "        \n",
    "n_img_arr = ccl(img_arr)          "
   ]
  },
  {
   "cell_type": "markdown",
   "metadata": {},
   "source": [
    "# Generate a randomly generated coloured image"
   ]
  },
  {
   "cell_type": "code",
   "execution_count": 5,
   "metadata": {},
   "outputs": [
    {
     "data": {
      "image/png": "[encoded data removed]",
      "text/plain": [
       "<PIL.Image.Image image mode=RGB size=508x331 at 0x7F5255F4E390>"
      ]
     },
     "execution_count": 5,
     "metadata": {},
     "output_type": "execute_result"
    }
   ],
   "source": [
    "from random import randint\n",
    "# Generate random colors for an RGB image.\n",
    "def generateRandomColor():\n",
    "    return [randint(0,255), randint(0,255), randint(0,255)]\n",
    "def createImage(ccl_img_arr):\n",
    "    # Create a dictionary that keeps record of randomly generated colour for each region (component)\n",
    "    colors = dict()\n",
    "    # Generate random colour for each region\n",
    "    for i in np.unique(ccl_img_arr):\n",
    "        if i == 0:\n",
    "            colors[i] = [0,0,0]\n",
    "        colors[i] = generateRandomColor()\n",
    "    n_img = np.zeros(ccl_img_arr.shape + (3,))\n",
    "    # Assign random colors, to each region\n",
    "    for i in range(0, 3):\n",
    "        for j in range(0, n_img[:,:,i].shape[0]):\n",
    "            for k in range(0, n_img[:,:,i].shape[1]):\n",
    "                n_img[j,k,i] = colors[ccl_img_arr[j][k]][i]\n",
    "    # Convert array to RGB image, make sure to change the datatype to uint8\n",
    "    # because currently the data may be in floats.\n",
    "    n_img = Image.fromarray(np.array(n_img, dtype='uint8'), 'RGB')\n",
    "    # return the new image.\n",
    "    return n_img\n",
    "\n",
    "createImage(n_img_arr)"
   ]
  },
  {
   "cell_type": "code",
   "execution_count": null,
   "metadata": {},
   "outputs": [],
   "source": []
  }
 ],
 "metadata": {
  "kernelspec": {
   "display_name": "Python 2",
   "language": "python",
   "name": "python2"
  },
  "language_info": {
   "codemirror_mode": {
    "name": "ipython",
    "version": 2
   },
   "file_extension": ".py",
   "mimetype": "text/x-python",
   "name": "python",
   "nbconvert_exporter": "python",
   "pygments_lexer": "ipython2",
   "version": "2.7.15"
  }
 },
 "nbformat": 4,
 "nbformat_minor": 2
}
